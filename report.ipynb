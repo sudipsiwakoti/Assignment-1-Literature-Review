{
  "nbformat": 4,
  "nbformat_minor": 0,
  "metadata": {
    "colab": {
      "name": "report.ipynb",
      "version": "0.3.2",
      "provenance": [],
      "collapsed_sections": [],
      "toc_visible": true,
      "include_colab_link": true
    },
    "kernelspec": {
      "name": "python3",
      "display_name": "Python 3"
    }
  },
  "cells": [
    {
      "cell_type": "markdown",
      "metadata": {
        "id": "view-in-github",
        "colab_type": "text"
      },
      "source": [
        "<a href=\"https://colab.research.google.com/github/sudipsiwakoti/ML2019_ID_12956936/blob/master/report.ipynb\" target=\"_parent\"><img src=\"https://colab.research.google.com/assets/colab-badge.svg\" alt=\"Open In Colab\"/></a>"
      ]
    },
    {
      "cell_type": "code",
      "metadata": {
        "id": "nXvTxHgJfcL9",
        "colab_type": "code",
        "colab": {}
      },
      "source": [
        ""
      ],
      "execution_count": 0,
      "outputs": []
    },
    {
      "cell_type": "markdown",
      "metadata": {
        "id": "P8UQ1L1ofdUW",
        "colab_type": "text"
      },
      "source": [
        "# **Assignment 1**\n",
        "## **Understanding the Literature**\n",
        "### Critical Review on Gradient Based Learning Applied To Document Recognition \"CNN\"\n",
        "\n",
        "\n",
        "#### Student ID: 12956936\n",
        "#### Student Name: Sudip Siwakoti\n"
      ]
    },
    {
      "cell_type": "markdown",
      "metadata": {
        "id": "9hg8Lg8rga3F",
        "colab_type": "text"
      },
      "source": [
        "# **Introduction**\n",
        "This report is a literature review on article based on gradient based learning and specifically focused on Convolutional Neural Networks.There are many different types of neural networks and CNN is a special type of multiple layer neural network use for pattern recognisation and used in my computer vision application.   "
      ]
    },
    {
      "cell_type": "markdown",
      "metadata": {
        "id": "htLePNZ8ggGU",
        "colab_type": "text"
      },
      "source": [
        "# Content\n",
        "This paper specifically looks into application of neural network for documentation recogniation "
      ]
    },
    {
      "cell_type": "markdown",
      "metadata": {
        "id": "F9peZtzHgmcI",
        "colab_type": "text"
      },
      "source": [
        "# Innovation"
      ]
    },
    {
      "cell_type": "markdown",
      "metadata": {
        "id": "Jjpuu6mUgovB",
        "colab_type": "text"
      },
      "source": [
        "# Technical Quality\n"
      ]
    },
    {
      "cell_type": "markdown",
      "metadata": {
        "id": "dHmVz3XlgxPT",
        "colab_type": "text"
      },
      "source": [
        "# Application and X-factor"
      ]
    },
    {
      "cell_type": "markdown",
      "metadata": {
        "id": "A6qrTuWVhARl",
        "colab_type": "text"
      },
      "source": [
        "# Presentation\n",
        "In my personal view I would consider quality of presentation of the article not to be reader friendly. Speciafically, it was very dificult to differentiate between the the background of the article, experiment conducted and the results.  "
      ]
    },
    {
      "cell_type": "markdown",
      "metadata": {
        "id": "XNeLqJxvhFBC",
        "colab_type": "text"
      },
      "source": [
        "# Refrences"
      ]
    }
  ]
}