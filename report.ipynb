{
  "nbformat": 4,
  "nbformat_minor": 0,
  "metadata": {
    "colab": {
      "name": "report.ipynb",
      "version": "0.3.2",
      "provenance": [],
      "collapsed_sections": [],
      "toc_visible": true,
      "include_colab_link": true
    },
    "kernelspec": {
      "name": "python3",
      "display_name": "Python 3"
    }
  },
  "cells": [
    {
      "cell_type": "markdown",
      "metadata": {
        "id": "view-in-github",
        "colab_type": "text"
      },
      "source": [
        "<a href=\"https://colab.research.google.com/github/sudipsiwakoti/ML2019_ID_12956936/blob/master/report.ipynb\" target=\"_parent\"><img src=\"https://colab.research.google.com/assets/colab-badge.svg\" alt=\"Open In Colab\"/></a>"
      ]
    },
    {
      "cell_type": "code",
      "metadata": {
        "id": "nXvTxHgJfcL9",
        "colab_type": "code",
        "colab": {}
      },
      "source": [
        ""
      ],
      "execution_count": 0,
      "outputs": []
    },
    {
      "cell_type": "markdown",
      "metadata": {
        "id": "P8UQ1L1ofdUW",
        "colab_type": "text"
      },
      "source": [
        "# **Assignment 1**\n",
        "## **Understanding the Literature**\n",
        "### Critical Review on Gradient Based Learning Applied To Document Recognition \"CNN\"\n",
        "\n",
        "\n",
        "#### Student ID: 12956936\n",
        "#### Student Name: Sudip Siwakoti\n"
      ]
    },
    {
      "cell_type": "markdown",
      "metadata": {
        "id": "9hg8Lg8rga3F",
        "colab_type": "text"
      },
      "source": [
        "# **Introduction**\n",
        "This report is a literature review on article based on gradient based learning and specifically focused on Convolutional Neural Networks.There are many different types of neural networks and CNN is a special type of multiple layer neural network use for pattern recognisation and used in my computer vision application. This article specifically investigates into the process and methods used for document recognisation, hand written character recognisation and online character recognisation at the time of publication. At the time of the publication of the article, Le-Net5 was the most advanced Convolutional Neural Netwrok while there where other methods like SVM, KNN, VSVM, etc where avaliable. Writer also emphesises on the fact how earlier methods required designer need to hand crafted feature extraction method which use to be time consuming and labour and compute intensive, meanwhile the system could not be generalised and needed to be changed with individual system. Convolution neural network had self feature extraction methods which helped to generalise the system with minimal or no changes. One of the best example of this is if you are building a model using CNN you can use a pretrained model from VGG16, RasNet(2015) google inception models etc to boost the performance of your model.   "
      ]
    },
    {
      "cell_type": "markdown",
      "metadata": {
        "id": "htLePNZ8ggGU",
        "colab_type": "text"
      },
      "source": [
        "# Content\n",
        "This paper cannot be considered innovative base on the fact that it fouses on the comparasion of existing methods in the industry. The experiment conducted by the team of writer are the recreation of the existing Le-Net1 and LeNet5 for comparasion of the performance and analysis of efficency of these CNN methods with other existing methods like SVM, VSVM, KNN, Polynominal and linear methods, etc. In the first experiment, the writer states that using LeNet5 model they were able to achieve 0.8% error on test set with some modification of dataset and also where able to achieve 0.7% error on boosted LeNet4 model while SVM and VSVM where able to achieve 1% and 1.1% error on test set with 60% increase computational cost demonstrating the superior performance and efficeiency of Convloutonal Neural Network. "
      ]
    },
    {
      "cell_type": "markdown",
      "metadata": {
        "id": "F9peZtzHgmcI",
        "colab_type": "text"
      },
      "source": [
        "# Innovation"
      ]
    },
    {
      "cell_type": "markdown",
      "metadata": {
        "id": "Jjpuu6mUgovB",
        "colab_type": "text"
      },
      "source": [
        "# Technical Quality\n"
      ]
    },
    {
      "cell_type": "markdown",
      "metadata": {
        "id": "dHmVz3XlgxPT",
        "colab_type": "text"
      },
      "source": [
        "# Application and X-factor"
      ]
    },
    {
      "cell_type": "markdown",
      "metadata": {
        "id": "A6qrTuWVhARl",
        "colab_type": "text"
      },
      "source": [
        "# Presentation\n",
        "In my personal view I would consider quality of presentation of the article not to be reader friendly. Speciafically, it was very dificult to differentiate between the the background of the technology used to and experiment conducted by the writer of the paper.  "
      ]
    },
    {
      "cell_type": "markdown",
      "metadata": {
        "id": "XNeLqJxvhFBC",
        "colab_type": "text"
      },
      "source": [
        "# Refrences"
      ]
    }
  ]
}